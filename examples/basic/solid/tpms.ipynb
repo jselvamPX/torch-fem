{
 "cells": [
  {
   "cell_type": "markdown",
   "metadata": {},
   "source": [
    "# Implicit TPMS gallery\n",
    "[![Google Collab Book](https://colab.research.google.com/assets/colab-badge.svg)](https://colab.research.google.com/github/meyer-nils/torch-fem/blob/main/examples/basic/solid/tpms.ipynb)"
   ]
  },
  {
   "cell_type": "code",
   "execution_count": 1,
   "metadata": {},
   "outputs": [],
   "source": [
    "import torch\n",
    "from torchfem.mesh import cube_hexa\n",
    "from torchfem.sdfs import Gyroid, SchwarzP, Diamond, Lidinoid, SplitP, Neovius\n",
    "\n",
    "import pyvista\n",
    "\n",
    "pyvista.set_plot_theme(\"document\")\n",
    "torch.set_default_dtype(torch.float64)"
   ]
  },
  {
   "cell_type": "markdown",
   "metadata": {},
   "source": [
    "## Create voxel mesh"
   ]
  },
  {
   "cell_type": "code",
   "execution_count": 2,
   "metadata": {},
   "outputs": [],
   "source": [
    "# Create a mesh\n",
    "N = 50\n",
    "nodes, elements = cube_hexa(N, N, N)\n",
    "\n",
    "# Create unstructured mesh\n",
    "l = len(elements[0]) * torch.ones(elements.shape[0], dtype=elements.dtype)\n",
    "elems = torch.cat([l[:, None], elements], dim=1).view(-1).tolist()\n",
    "cell_types = len(elements) * [pyvista.CellType.HEXAHEDRON]\n",
    "mesh = pyvista.UnstructuredGrid(elems, cell_types, nodes.tolist())"
   ]
  },
  {
   "cell_type": "markdown",
   "metadata": {},
   "source": [
    "## Evaluate signed distance functions"
   ]
  },
  {
   "cell_type": "code",
   "execution_count": 3,
   "metadata": {},
   "outputs": [],
   "source": [
    "thickness = 0.1\n",
    "\n",
    "# Gyroid\n",
    "mesh.point_data[\"gyroid\"] = Gyroid().sdf(nodes).numpy()\n",
    "\n",
    "# Schwarz Primitive\n",
    "mesh.point_data[\"schwarzp\"] = SchwarzP().sdf(nodes).numpy()\n",
    "\n",
    "# Diamond\n",
    "mesh.point_data[\"diamond\"] = Diamond().sdf(nodes).numpy()\n",
    "\n",
    "# Lidinoid\n",
    "mesh.point_data[\"lidinoid\"] = Lidinoid().sdf(nodes).numpy()\n",
    "\n",
    "# Split P\n",
    "mesh.point_data[\"splitp\"] = SplitP().sdf(nodes).numpy()\n",
    "\n",
    "# Neovius\n",
    "mesh.point_data[\"neovius\"] = Neovius().sdf(nodes).numpy()"
   ]
  },
  {
   "cell_type": "markdown",
   "metadata": {},
   "source": [
    "## Plot signed distance function"
   ]
  },
  {
   "cell_type": "code",
   "execution_count": 4,
   "metadata": {},
   "outputs": [
    {
     "data": {
      "application/vnd.jupyter.widget-view+json": {
       "model_id": "4de21712970e4699ad998defdc9efb1e",
       "version_major": 2,
       "version_minor": 0
      },
      "text/plain": [
       "EmbeddableWidget(value='<iframe srcdoc=\"<!DOCTYPE html>\\n<html>\\n  <head>\\n    <meta http-equiv=&quot;Content-…"
      ]
     },
     "metadata": {},
     "output_type": "display_data"
    }
   ],
   "source": [
    "pl = pyvista.Plotter(shape=(2, 3))\n",
    "pl.enable_anti_aliasing(\"ssaa\")\n",
    "pl.add_mesh(\n",
    "    mesh,\n",
    "    cmap=\"coolwarm\",\n",
    "    show_edges=True,\n",
    "    clim=[-1.0, 1.0],\n",
    "    scalars=\"gyroid\",\n",
    "    copy_mesh=True,\n",
    ")\n",
    "pl.subplot(0, 1)\n",
    "pl.add_mesh(\n",
    "    mesh,\n",
    "    cmap=\"coolwarm\",\n",
    "    show_edges=True,\n",
    "    clim=[-1.0, 1.0],\n",
    "    scalars=\"schwarzp\",\n",
    "    copy_mesh=True,\n",
    ")\n",
    "pl.subplot(0, 2)\n",
    "pl.add_mesh(\n",
    "    mesh,\n",
    "    cmap=\"coolwarm\",\n",
    "    show_edges=True,\n",
    "    clim=[-1.0, 1.0],\n",
    "    scalars=\"diamond\",\n",
    "    copy_mesh=True,\n",
    ")\n",
    "pl.subplot(1, 0)\n",
    "pl.add_mesh(\n",
    "    mesh,\n",
    "    cmap=\"coolwarm\",\n",
    "    show_edges=True,\n",
    "    clim=[-1.0, 1.0],\n",
    "    scalars=\"lidinoid\",\n",
    "    copy_mesh=True,\n",
    ")\n",
    "pl.subplot(1, 1)\n",
    "pl.add_mesh(\n",
    "    mesh,\n",
    "    cmap=\"coolwarm\",\n",
    "    show_edges=True,\n",
    "    clim=[-1.0, 1.0],\n",
    "    scalars=\"splitp\",\n",
    "    copy_mesh=True,\n",
    ")\n",
    "pl.subplot(1, 2)\n",
    "pl.add_mesh(\n",
    "    mesh,\n",
    "    cmap=\"coolwarm\",\n",
    "    show_edges=True,\n",
    "    clim=[-1.0, 1.0],\n",
    "    scalars=\"neovius\",\n",
    "    copy_mesh=True,\n",
    ")\n",
    "pl.show(jupyter_backend=\"html\")"
   ]
  },
  {
   "cell_type": "markdown",
   "metadata": {},
   "source": [
    "## Plot shells"
   ]
  },
  {
   "cell_type": "code",
   "execution_count": 5,
   "metadata": {},
   "outputs": [
    {
     "data": {
      "application/vnd.jupyter.widget-view+json": {
       "model_id": "267df8c60f614842b7e1fc668f0c6d83",
       "version_major": 2,
       "version_minor": 0
      },
      "text/plain": [
       "EmbeddableWidget(value='<iframe srcdoc=\"<!DOCTYPE html>\\n<html>\\n  <head>\\n    <meta http-equiv=&quot;Content-…"
      ]
     },
     "metadata": {},
     "output_type": "display_data"
    }
   ],
   "source": [
    "# Plot\n",
    "pl = pyvista.Plotter(shape=(2, 3))\n",
    "pl.enable_anti_aliasing(\"ssaa\")\n",
    "pl.add_mesh(mesh.outline(), color=\"k\")\n",
    "pl.add_mesh(\n",
    "    mesh.contour([-thickness, 0.0, thickness], scalars=\"gyroid\"),\n",
    "    color=\"orange\",\n",
    "    copy_mesh=True,\n",
    ")\n",
    "pl.subplot(0, 1)\n",
    "pl.add_mesh(mesh.outline(), color=\"k\")\n",
    "pl.add_mesh(\n",
    "    mesh.contour([-thickness, 0.0, thickness], scalars=\"schwarzp\"),\n",
    "    color=\"plum\",\n",
    "    copy_mesh=True,\n",
    ")\n",
    "pl.subplot(0, 2)\n",
    "pl.add_mesh(mesh.outline(), color=\"k\")\n",
    "pl.add_mesh(\n",
    "    mesh.contour([-thickness, 0.0, thickness], scalars=\"diamond\"),\n",
    "    color=\"limegreen\",\n",
    "    copy_mesh=True,\n",
    ")\n",
    "pl.subplot(1, 0)\n",
    "pl.add_mesh(mesh.outline(), color=\"k\")\n",
    "pl.add_mesh(\n",
    "    mesh.contour([-thickness, 0.0, thickness], scalars=\"lidinoid\"),\n",
    "    color=\"salmon\",\n",
    "    copy_mesh=True,\n",
    ")\n",
    "pl.subplot(1, 1)\n",
    "pl.add_mesh(mesh.outline(), color=\"k\")\n",
    "pl.add_mesh(\n",
    "    mesh.contour([-thickness, 0.0, thickness], scalars=\"splitp\"),\n",
    "    color=\"skyblue\",\n",
    "    copy_mesh=True,\n",
    ")\n",
    "pl.subplot(1, 2)\n",
    "pl.add_mesh(mesh.outline(), color=\"k\")\n",
    "pl.add_mesh(\n",
    "    mesh.contour([-thickness, 0.0, thickness], scalars=\"neovius\"),\n",
    "    color=\"gold\",\n",
    "    copy_mesh=True,\n",
    ")\n",
    "pl.show(jupyter_backend=\"html\")"
   ]
  }
 ],
 "metadata": {
  "kernelspec": {
   "display_name": "torchfem",
   "language": "python",
   "name": "python3"
  },
  "language_info": {
   "codemirror_mode": {
    "name": "ipython",
    "version": 3
   },
   "file_extension": ".py",
   "mimetype": "text/x-python",
   "name": "python",
   "nbconvert_exporter": "python",
   "pygments_lexer": "ipython3",
   "version": "3.10.13"
  }
 },
 "nbformat": 4,
 "nbformat_minor": 2
}
