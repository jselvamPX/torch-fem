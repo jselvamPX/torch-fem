{
 "cells": [
  {
   "cell_type": "markdown",
   "metadata": {},
   "source": [
    "# Implicit Gyroid structure\n",
    "[![Google Collab Book](https://colab.research.google.com/assets/colab-badge.svg)](https://colab.research.google.com/github/meyer-nils/torch-fem/blob/main/examples/basic/solid/gyroid.ipynb)"
   ]
  },
  {
   "cell_type": "code",
   "execution_count": 1,
   "metadata": {},
   "outputs": [],
   "source": [
    "import torch\n",
    "from torchfem import Solid\n",
    "from torchfem.materials import IsotropicElasticity3D\n",
    "from torchfem.mesh import cube_hexa\n",
    "from torchfem.sdfs import Gyroid\n",
    "\n",
    "import pyvista\n",
    "\n",
    "pyvista.set_plot_theme(\"document\")\n",
    "torch.set_default_dtype(torch.float64)"
   ]
  },
  {
   "cell_type": "code",
   "execution_count": 2,
   "metadata": {},
   "outputs": [],
   "source": [
    "# Material parameters\n",
    "E = 1000.0\n",
    "nu = 0.3\n",
    "material = IsotropicElasticity3D(E=E, nu=nu)\n",
    "\n",
    "# Gyroid parameters\n",
    "scale = 0.5 * torch.ones(3)\n",
    "thickness = 0.1\n",
    "\n",
    "# Mesh parameters\n",
    "N = 51\n",
    "\n",
    "# Homogenization parameters\n",
    "disp = 0.1\n",
    "rho_min = 0.01"
   ]
  },
  {
   "cell_type": "markdown",
   "metadata": {},
   "source": [
    "## Create voxel mesh"
   ]
  },
  {
   "cell_type": "code",
   "execution_count": 3,
   "metadata": {},
   "outputs": [],
   "source": [
    "# Create a mesh\n",
    "nodes, elements = cube_hexa(51, 51, 51)\n",
    "\n",
    "# Create model\n",
    "model = Solid(nodes, elements, material)"
   ]
  },
  {
   "cell_type": "markdown",
   "metadata": {},
   "source": [
    "## Evaluate signed distance function"
   ]
  },
  {
   "cell_type": "code",
   "execution_count": 4,
   "metadata": {},
   "outputs": [
    {
     "data": {
      "application/vnd.jupyter.widget-view+json": {
       "model_id": "5683a6af89ee4032b89fca922aa29a39",
       "version_major": 2,
       "version_minor": 0
      },
      "text/plain": [
       "EmbeddableWidget(value='<iframe srcdoc=\"<!DOCTYPE html>\\n<html>\\n  <head>\\n    <meta http-equiv=&quot;Content-…"
      ]
     },
     "metadata": {},
     "output_type": "display_data"
    }
   ],
   "source": [
    "gyroid = Gyroid().scale(scale)\n",
    "\n",
    "model.plot(node_property={\"SDF\": gyroid.sdf(nodes)}, cmap=\"coolwarm\", clim=[-1.0, 1.0])"
   ]
  },
  {
   "cell_type": "markdown",
   "metadata": {},
   "source": [
    "## Plot shell gyroid "
   ]
  },
  {
   "cell_type": "code",
   "execution_count": 5,
   "metadata": {},
   "outputs": [
    {
     "data": {
      "application/vnd.jupyter.widget-view+json": {
       "model_id": "89aade1564334431bc82197b858bbbd6",
       "version_major": 2,
       "version_minor": 0
      },
      "text/plain": [
       "EmbeddableWidget(value='<iframe srcdoc=\"<!DOCTYPE html>\\n<html>\\n  <head>\\n    <meta http-equiv=&quot;Content-…"
      ]
     },
     "metadata": {},
     "output_type": "display_data"
    }
   ],
   "source": [
    "model.plot(\n",
    "    node_property={\"SDF\": gyroid.sdf(nodes)}, contour=(\"SDF\", [-thickness, thickness])\n",
    ")"
   ]
  },
  {
   "cell_type": "code",
   "execution_count": 6,
   "metadata": {},
   "outputs": [],
   "source": [
    "# Set constraints\n",
    "model.constraints[nodes[:, 0] == 0.0, 0] = True\n",
    "model.constraints[nodes[:, 1] == 0.5, 1] = True\n",
    "model.constraints[nodes[:, 2] == 0.5, 2] = True\n",
    "model.constraints[nodes[:, 0] == 1.0, 0] = True\n",
    "model.displacements[nodes[:, 0] == 1.0, 0] = 0.1\n",
    "\n",
    "# Create nodal density field\n",
    "mask = torch.abs(gyroid.sdf(nodes)) > thickness\n",
    "rho_nodes = torch.ones_like(gyroid.sdf(nodes))\n",
    "rho_nodes[mask] = rho_min\n",
    "\n",
    "# Integrate element density field\n",
    "rho_elems = model.integrate_field(rho_nodes)\n",
    "vol_elems = model.integrate_field(torch.ones_like(rho_nodes))\n",
    "rho_elems /= vol_elems"
   ]
  },
  {
   "cell_type": "code",
   "execution_count": 7,
   "metadata": {},
   "outputs": [
    {
     "data": {
      "application/vnd.jupyter.widget-view+json": {
       "model_id": "39ef3cbc1d01453280c58ef9958c5dff",
       "version_major": 2,
       "version_minor": 0
      },
      "text/plain": [
       "EmbeddableWidget(value='<iframe srcdoc=\"<!DOCTYPE html>\\n<html>\\n  <head>\\n    <meta http-equiv=&quot;Content-…"
      ]
     },
     "metadata": {},
     "output_type": "display_data"
    }
   ],
   "source": [
    "model.plot(element_property={\"Density\": rho_elems}, cmap=\"coolwarm\")"
   ]
  },
  {
   "cell_type": "markdown",
   "metadata": {},
   "source": [
    "## Compute homogenized properties"
   ]
  },
  {
   "cell_type": "code",
   "execution_count": 8,
   "metadata": {},
   "outputs": [],
   "source": [
    "# Reduce stiffness with density field\n",
    "model.material.C *= rho_elems[:, None, None]\n",
    "\n",
    "# Solve\n",
    "u, f, σ, ε, α = model.solve()"
   ]
  },
  {
   "cell_type": "code",
   "execution_count": 9,
   "metadata": {},
   "outputs": [
    {
     "name": "stdout",
     "output_type": "stream",
     "text": [
      "Effective E_xx (8.27%): 79.21\n"
     ]
    }
   ],
   "source": [
    "E_xx = torch.mean(σ[:, 0] / ε[:, 0])\n",
    "vol_frac = (rho_elems * vol_elems).sum()\n",
    "print(f\"Effective E_xx ({100*vol_frac:.2f}%): {E_xx:.2f}\")"
   ]
  },
  {
   "cell_type": "code",
   "execution_count": 10,
   "metadata": {},
   "outputs": [
    {
     "data": {
      "application/vnd.jupyter.widget-view+json": {
       "model_id": "7e62718903f140b798753dc74625245e",
       "version_major": 2,
       "version_minor": 0
      },
      "text/plain": [
       "EmbeddableWidget(value='<iframe srcdoc=\"<!DOCTYPE html>\\n<html>\\n  <head>\\n    <meta http-equiv=&quot;Content-…"
      ]
     },
     "metadata": {},
     "output_type": "display_data"
    }
   ],
   "source": [
    "model.plot(\n",
    "    node_property={\"Disp\": u, \"SDF\": gyroid.sdf(nodes)},\n",
    "    contour=(\"SDF\", [-thickness, thickness]),\n",
    "    scalars=\"Disp\",\n",
    ")"
   ]
  }
 ],
 "metadata": {
  "kernelspec": {
   "display_name": "torchfem",
   "language": "python",
   "name": "python3"
  },
  "language_info": {
   "codemirror_mode": {
    "name": "ipython",
    "version": 3
   },
   "file_extension": ".py",
   "mimetype": "text/x-python",
   "name": "python",
   "nbconvert_exporter": "python",
   "pygments_lexer": "ipython3",
   "version": "3.10.13"
  }
 },
 "nbformat": 4,
 "nbformat_minor": 2
}
