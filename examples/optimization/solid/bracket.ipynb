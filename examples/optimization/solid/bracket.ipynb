{
 "cells": [
  {
   "cell_type": "markdown",
   "metadata": {},
   "source": [
    "# Topology optimization of the GE jet engine bracket challenge\n",
    "\n",
    "The GE jet engine bracket challenge was a design challenge posted on GrabCAD [1].\n",
    "\n",
    "\n",
    "[1] https://grabcad.com/challenges/ge-jet-engine-bracket-challenge"
   ]
  },
  {
   "cell_type": "code",
   "execution_count": 1,
   "metadata": {},
   "outputs": [],
   "source": [
    "import matplotlib.pyplot as plt\n",
    "import meshio\n",
    "import numpy as np\n",
    "import torch\n",
    "from scipy.optimize import bisect\n",
    "from tqdm import tqdm\n",
    "\n",
    "from torchfem import Solid\n",
    "from torchfem.examples import get_example_file\n",
    "from torchfem.materials import IsotropicElasticity3D\n",
    "\n",
    "torch.set_default_dtype(torch.float64)"
   ]
  },
  {
   "cell_type": "code",
   "execution_count": 2,
   "metadata": {},
   "outputs": [],
   "source": [
    "# Material model (Ti-6Al-4V) in imperial units\n",
    "material = IsotropicElasticity3D(E=16500.0, nu=0.342)"
   ]
  },
  {
   "cell_type": "markdown",
   "metadata": {},
   "source": [
    "## Mesh \n",
    "\n",
    "The domain is meshed with linear tetrahedrons in gmsh and subdivided in seven geometrical domains."
   ]
  },
  {
   "cell_type": "code",
   "execution_count": 3,
   "metadata": {},
   "outputs": [
    {
     "data": {
      "application/vnd.jupyter.widget-view+json": {
       "model_id": "b17060f92ae045af9bda36e37df83d52",
       "version_major": 2,
       "version_minor": 0
      },
      "text/plain": [
       "EmbeddableWidget(value='<iframe srcdoc=\"<!DOCTYPE html>\\n<html>\\n  <head>\\n    <meta http-equiv=&quot;Content-…"
      ]
     },
     "metadata": {},
     "output_type": "display_data"
    }
   ],
   "source": [
    "mesh = meshio.read(get_example_file(\"ge_bracket.vtu\"))\n",
    "elements = torch.tensor(mesh.cells[0].data)\n",
    "nodes = torch.tensor(mesh.points)\n",
    "dom = torch.tensor(mesh.cell_data[\"gmsh:geometrical\"][0])\n",
    "\n",
    "model = Solid(nodes, elements, material)\n",
    "cmap = plt.get_cmap(\"tab10\", 7)\n",
    "model.plot(element_property={\"Domain\": dom}, cmap=cmap)"
   ]
  },
  {
   "cell_type": "code",
   "execution_count": 4,
   "metadata": {},
   "outputs": [
    {
     "name": "stdout",
     "output_type": "stream",
     "text": [
      "Increment 1 | Iteration 1 | Residual: 3.18799e+02\n",
      "Increment 1 | Iteration 2 | Residual: 2.51080e-05\n"
     ]
    },
    {
     "data": {
      "application/vnd.jupyter.widget-view+json": {
       "model_id": "0ffaf78e23984f47af32b0c933e2f51a",
       "version_major": 2,
       "version_minor": 0
      },
      "text/plain": [
       "EmbeddableWidget(value='<iframe srcdoc=\"<!DOCTYPE html>\\n<html>\\n  <head>\\n    <meta http-equiv=&quot;Content-…"
      ]
     },
     "metadata": {},
     "output_type": "display_data"
    }
   ],
   "source": [
    "interface_1 = torch.unique(elements[(dom == 2) | (dom == 7)])\n",
    "interface_2 = torch.unique(elements[(dom == 1) | (dom == 3) | (dom == 4) | (dom == 5)])\n",
    "\n",
    "# Design elements\n",
    "design_elements = elements[dom == 6]\n",
    "\n",
    "# Define load cases (this is not using multi-point constraints yet...)\n",
    "load_case_1 = torch.zeros_like(nodes)\n",
    "load_case_1[interface_1, 2] = 8000 / len(interface_1)\n",
    "load_case_2 = torch.zeros_like(nodes)\n",
    "load_case_2[interface_1, 1] = -8500 / len(interface_1)\n",
    "load_case_3 = torch.zeros_like(nodes)\n",
    "load_case_3[interface_1, 1] = -9500 * np.sin(np.deg2rad(42)) / len(interface_1)\n",
    "load_case_3[interface_1, 2] = 9500 * np.cos(np.deg2rad(42)) / len(interface_1)\n",
    "load_case_4 = torch.zeros_like(nodes)\n",
    "levers = nodes[interface_1] - torch.tensor([0.0, 0.0, 0.0])\n",
    "load_case_4[interface_1, 1] = 5000 / levers[:, 0] / len(interface_1)\n",
    "\n",
    "# Apply load case 1\n",
    "model.forces = load_case_3\n",
    "\n",
    "# Constrained nodes at interface 2\n",
    "model.constraints[interface_2, :] = True\n",
    "\n",
    "# Solve\n",
    "u, f, σ, ε, α = model.solve(rtol=0.01, verbose=True)\n",
    "\n",
    "# Plot\n",
    "model.plot(node_property={\"u\": u})"
   ]
  },
  {
   "cell_type": "markdown",
   "metadata": {},
   "source": [
    "## Optimization parameters \n",
    "We define the optimization parameters, i.e. the volume fraction, the penalization factor, the move limit, the filter radius, and the number of iterations."
   ]
  },
  {
   "cell_type": "code",
   "execution_count": 5,
   "metadata": {},
   "outputs": [],
   "source": [
    "volfrac = 0.15\n",
    "p = 3\n",
    "move = 0.2\n",
    "R = 5.0"
   ]
  },
  {
   "cell_type": "code",
   "execution_count": 6,
   "metadata": {},
   "outputs": [],
   "source": [
    "vols = model.integrate_field()[dom == 6]"
   ]
  },
  {
   "cell_type": "code",
   "execution_count": 7,
   "metadata": {},
   "outputs": [],
   "source": [
    "# Initial, minimum, and maximum values of design variables\n",
    "rho_0 = volfrac * torch.ones(len(design_elements))\n",
    "rho_min = 0.01 * torch.ones_like(rho_0)\n",
    "rho_max = torch.ones_like(rho_0)\n",
    "\n",
    "# Volume fraction\n",
    "V_0 = volfrac * vols.sum()\n",
    "\n",
    "# Analytical gradient of the stiffness matrix\n",
    "k0 = model.k0()[dom == 6].clone()\n",
    "C0 = model.material.C[dom == 6].clone()\n",
    "\n",
    "# Precompute filter weights (in chunks and as sparse matrix to save memory)\n",
    "ecenters = nodes[design_elements].mean(axis=1)\n",
    "row = []\n",
    "col = []\n",
    "values = []\n",
    "i = 0\n",
    "for chunk in ecenters.chunk(1000):\n",
    "    d = torch.cdist(chunk, ecenters)\n",
    "    H = R - d\n",
    "    mask = d < R\n",
    "    r, c = torch.where(mask)\n",
    "    row.append(r + i)\n",
    "    col.append(c)\n",
    "    values.append(H[mask])\n",
    "    i += len(chunk)\n",
    "\n",
    "row = torch.cat(row)\n",
    "col = torch.cat(col)\n",
    "values = torch.cat(values)\n",
    "\n",
    "H = torch.sparse_coo_tensor(\n",
    "    indices=torch.stack([row, col]),\n",
    "    values=values,\n",
    "    size=(len(design_elements), len(design_elements)),\n",
    ")\n",
    "\n",
    "H_sum = H.sum(dim=0).to_dense()"
   ]
  },
  {
   "cell_type": "markdown",
   "metadata": {},
   "source": [
    "## Optimization with optimality constraints. \n",
    "\n",
    "This should take around 20 minutes to run..."
   ]
  },
  {
   "cell_type": "code",
   "execution_count": 8,
   "metadata": {},
   "outputs": [
    {
     "name": "stderr",
     "output_type": "stream",
     "text": [
      "100%|██████████| 25/25 [20:45<00:00, 49.83s/it]\n"
     ]
    }
   ],
   "source": [
    "rho = [rho_0]\n",
    "history = []\n",
    "\n",
    "# Iterate solutions\n",
    "for k in tqdm(range(25)):\n",
    "    # Adjust thickness variables\n",
    "    model.material.C[dom == 6] = torch.einsum(\"j,jkl->jkl\", rho[k] ** p, C0)\n",
    "\n",
    "    sensitivity = torch.zeros_like(rho[k])\n",
    "    # Iterate over load cases\n",
    "    for lc in [load_case_1, load_case_2, load_case_3, load_case_4]:\n",
    "        # Apply load case\n",
    "        model.forces = lc\n",
    "        # Compute solution\n",
    "        u_k, f_k, _, _, _ = model.solve(rtol=0.01)\n",
    "        # Evaluation of compliance\n",
    "        compliance = torch.inner(f_k.ravel(), u_k.ravel())\n",
    "        # Compute analytical sensitivities\n",
    "        u_j = u_k[design_elements].reshape(len(design_elements), -1)\n",
    "        w_k = torch.einsum(\"...i, ...ij, ...j\", u_j, k0, u_j)\n",
    "        sensitivity += -p * rho[k] ** (p - 1.0) * w_k\n",
    "\n",
    "    # Filter sensitivities (if r provided)\n",
    "    sensitivity = H @ (rho[k] * sensitivity / vols) / H_sum / (rho[k] / vols)\n",
    "\n",
    "    # For a certain value of mu, apply the iteration scheme\n",
    "    def make_step(mu):\n",
    "        G_k = -sensitivity / mu\n",
    "        upper = torch.min(rho_max, (1 + move) * rho[k])\n",
    "        lower = torch.max(rho_min, (1 - move) * rho[k])\n",
    "        rho_trial = G_k**0.5 * rho[k]\n",
    "        return torch.maximum(torch.minimum(rho_trial, upper), lower)\n",
    "\n",
    "    # Constraint function\n",
    "    def g(mu):\n",
    "        rho_k = make_step(mu)\n",
    "        return torch.inner(rho_k, vols) - V_0\n",
    "\n",
    "    # Find the root of g(mu)\n",
    "    with torch.no_grad():\n",
    "        mu = bisect(g, 1e-10, 100.0)\n",
    "\n",
    "    # Update design history\n",
    "    rho.append(make_step(mu))\n",
    "    history.append(compliance)"
   ]
  },
  {
   "cell_type": "markdown",
   "metadata": {},
   "source": [
    "## Postprocessing"
   ]
  },
  {
   "cell_type": "code",
   "execution_count": 9,
   "metadata": {},
   "outputs": [
    {
     "data": {
      "image/png": "[encoded data removed]",
      "text/plain": [
       "<Figure size 640x480 with 1 Axes>"
      ]
     },
     "metadata": {},
     "output_type": "display_data"
    }
   ],
   "source": [
    "plt.plot(history)\n",
    "plt.xlabel(\"Iteration\")\n",
    "plt.ylabel(\"Compliance\")\n",
    "plt.show()"
   ]
  },
  {
   "cell_type": "code",
   "execution_count": 10,
   "metadata": {},
   "outputs": [],
   "source": [
    "from torchfem.io import export_mesh\n",
    "\n",
    "rho_final = torch.ones(len(elements))\n",
    "rho_final[dom == 6] = rho[-1]\n",
    "\n",
    "export_mesh(\n",
    "    model,\n",
    "    \"ge_bracket_topo.vtu\",\n",
    "    elem_data={\"rho\": [rho_final]},\n",
    "    nodal_data={\n",
    "        \"u\": u,\n",
    "        \"L1\": load_case_1,\n",
    "        \"L2\": load_case_2,\n",
    "        \"L3\": load_case_3,\n",
    "        \"L4\": load_case_4,\n",
    "    },\n",
    ")"
   ]
  }
 ],
 "metadata": {
  "kernelspec": {
   "display_name": "torchfem",
   "language": "python",
   "name": "python3"
  },
  "language_info": {
   "codemirror_mode": {
    "name": "ipython",
    "version": 3
   },
   "file_extension": ".py",
   "mimetype": "text/x-python",
   "name": "python",
   "nbconvert_exporter": "python",
   "pygments_lexer": "ipython3",
   "version": "3.10.13"
  },
  "orig_nbformat": 4
 },
 "nbformat": 4,
 "nbformat_minor": 2
}
