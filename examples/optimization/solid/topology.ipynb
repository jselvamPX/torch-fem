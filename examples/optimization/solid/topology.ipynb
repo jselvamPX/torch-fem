{
 "cells": [
  {
   "cell_type": "markdown",
   "metadata": {},
   "source": [
    "# Topology optimization of a cantilever beam in 3D \n",
    "[![Google Collab Book](https://colab.research.google.com/assets/colab-badge.svg)](https://colab.research.google.com/github/meyer-nils/torch-fem/blob/main/examples/optimization/solid/topology.ipynb)\n",
    "\n",
    "Topology optimization of a cantilever beam in 3D."
   ]
  },
  {
   "cell_type": "code",
   "execution_count": 1,
   "metadata": {},
   "outputs": [],
   "source": [
    "import torch\n",
    "from tqdm import tqdm\n",
    "from scipy.optimize import bisect\n",
    "\n",
    "from torchfem import Solid\n",
    "from torchfem.materials import IsotropicElasticity3D\n",
    "from torchfem.mesh import cube_hexa\n",
    "\n",
    "torch.set_default_dtype(torch.float64)"
   ]
  },
  {
   "cell_type": "markdown",
   "metadata": {},
   "source": [
    "## Model setup \n",
    "We start by defining the base problem without considering the optimization yet."
   ]
  },
  {
   "cell_type": "code",
   "execution_count": 2,
   "metadata": {},
   "outputs": [
    {
     "data": {
      "application/vnd.jupyter.widget-view+json": {
       "model_id": "797b09a4eb984165a56a2d2ac564e0e3",
       "version_major": 2,
       "version_minor": 0
      },
      "text/plain": [
       "EmbeddableWidget(value='<iframe srcdoc=\"<!DOCTYPE html>\\n<html>\\n  <head>\\n    <meta http-equiv=&quot;Content-…"
      ]
     },
     "metadata": {},
     "output_type": "display_data"
    }
   ],
   "source": [
    "# Material model\n",
    "material = IsotropicElasticity3D(E=100.0, nu=0.3)\n",
    "\n",
    "Nx = 20\n",
    "Ny = 10\n",
    "Nz = 15\n",
    "\n",
    "# Create mesh\n",
    "nodes, elements = cube_hexa(Nx + 1, Ny + 1, Nz + 1, Nx, Ny, Nz)\n",
    "\n",
    "model = Solid(nodes, elements, material)\n",
    "\n",
    "# Load at tip\n",
    "tip = nodes[:, 0] == Nx\n",
    "bottom = nodes[:, 2] == 0\n",
    "model.forces[tip & bottom, 2] = -1.0\n",
    "model.forces[tip & bottom & (nodes[:, 1] == 0), 2] = -0.5\n",
    "model.forces[tip & bottom & (nodes[:, 1] == Ny), 2] = -0.5\n",
    "\n",
    "# Constrained displacement at left end\n",
    "model.constraints[nodes[:, 0] == 0.0, :] = True\n",
    "\n",
    "# Solve\n",
    "u, f, sigma, epsilon, state = model.solve()\n",
    "\n",
    "# Plot\n",
    "model.plot(u=u, node_property={\"U\": u})"
   ]
  },
  {
   "cell_type": "markdown",
   "metadata": {},
   "source": [
    "## Optimization parameters \n",
    "We define the optimization parameters, i.e. the volume fraction, the penalization factor, the move limit, the filter radius, and the number of iterations."
   ]
  },
  {
   "cell_type": "code",
   "execution_count": 3,
   "metadata": {},
   "outputs": [],
   "source": [
    "volfrac = 0.5\n",
    "p = 3\n",
    "move = 0.2\n",
    "R = 1.5\n",
    "TORCH_SENS = False"
   ]
  },
  {
   "cell_type": "code",
   "execution_count": 4,
   "metadata": {},
   "outputs": [],
   "source": [
    "# Initial, minimum, and maximum values of design variables\n",
    "rho_0 = volfrac * torch.ones(len(elements))\n",
    "rho_min = 0.05 * torch.ones_like(rho_0)\n",
    "rho_max = torch.ones_like(rho_0)\n",
    "\n",
    "# Volume fraction\n",
    "V_0 = volfrac * Nx * Ny * Nz\n",
    "\n",
    "# Analytical gradient of the stiffness matrix\n",
    "k0 = model.k0()\n",
    "C0 = model.material.C.clone()\n",
    "\n",
    "# Precompute filter weights\n",
    "ecenters = torch.stack([torch.mean(nodes[e], dim=0) for e in elements])\n",
    "dist = torch.cdist(ecenters, ecenters)\n",
    "H = R - dist\n",
    "H[dist > R] = 0.0"
   ]
  },
  {
   "cell_type": "markdown",
   "metadata": {},
   "source": [
    "## Optimization with optimality constraints. \n",
    "\n",
    "This may take a minute to run."
   ]
  },
  {
   "cell_type": "code",
   "execution_count": 5,
   "metadata": {},
   "outputs": [
    {
     "name": "stderr",
     "output_type": "stream",
     "text": [
      "100%|██████████| 20/20 [00:09<00:00,  2.21it/s]\n"
     ]
    }
   ],
   "source": [
    "rho = [rho_0]\n",
    "\n",
    "# Iterate solutions\n",
    "for k in tqdm(range(20)):\n",
    "    # Adjust thickness variables\n",
    "    model.material.C = torch.einsum(\"j,jkl->jkl\", rho[k] ** p, C0)\n",
    "\n",
    "    # Compute solution\n",
    "    u_k, f_k, _, _, _ = model.solve()\n",
    "\n",
    "    # Evaluation of compliance\n",
    "    compliance = torch.inner(f_k.ravel(), u_k.ravel())\n",
    "\n",
    "    # Compute analytical sensitivities\n",
    "    u_j = u_k[elements].reshape(model.n_elem, -1)\n",
    "    w_k = torch.einsum(\"...i, ...ij, ...j\", u_j, k0, u_j)\n",
    "    sensitivity = -p * rho[k] ** (p - 1.0) * w_k\n",
    "\n",
    "    # Filter sensitivities (if r provided)\n",
    "    sensitivity = H @ (rho[k] * sensitivity) / H.sum(dim=0) / rho[k]\n",
    "\n",
    "    # For a certain value of mu, apply the iteration scheme\n",
    "    def make_step(mu):\n",
    "        G_k = -sensitivity / mu\n",
    "        upper = torch.min(rho_max, (1 + move) * rho[k])\n",
    "        lower = torch.max(rho_min, (1 - move) * rho[k])\n",
    "        rho_trial = G_k**0.5 * rho[k]\n",
    "        return torch.maximum(torch.minimum(rho_trial, upper), lower)\n",
    "\n",
    "    # Constraint function\n",
    "    def g(mu):\n",
    "        rho_k = make_step(mu)\n",
    "        return rho_k.sum() - V_0\n",
    "\n",
    "    # Find the root of g(mu)\n",
    "    with torch.no_grad():\n",
    "        mu = bisect(g, 1e-10, 100.0)\n",
    "\n",
    "    rho.append(make_step(mu))"
   ]
  },
  {
   "cell_type": "code",
   "execution_count": 6,
   "metadata": {},
   "outputs": [],
   "source": [
    "from torchfem.io import export_mesh\n",
    "\n",
    "export_mesh(model, \"result.vtu\", elem_data={\"rho\": [rho[-1]]})"
   ]
  }
 ],
 "metadata": {
  "kernelspec": {
   "display_name": "torchfem",
   "language": "python",
   "name": "python3"
  },
  "language_info": {
   "codemirror_mode": {
    "name": "ipython",
    "version": 3
   },
   "file_extension": ".py",
   "mimetype": "text/x-python",
   "name": "python",
   "nbconvert_exporter": "python",
   "pygments_lexer": "ipython3",
   "version": "3.10.13"
  },
  "orig_nbformat": 4
 },
 "nbformat": 4,
 "nbformat_minor": 2
}
