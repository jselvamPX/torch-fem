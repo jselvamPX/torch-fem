{
 "cells": [
  {
   "cell_type": "code",
   "execution_count": 1,
   "metadata": {},
   "outputs": [],
   "source": [
    "import subprocess\n",
    "from memory_profiler import memory_usage\n",
    "from torch.profiler import profile, ProfilerActivity\n",
    "\n",
    "from cubes import get_cube"
   ]
  },
  {
   "cell_type": "code",
   "execution_count": null,
   "metadata": {},
   "outputs": [],
   "source": [
    "with profile(\n",
    "    activities=[ProfilerActivity.CPU],\n",
    "    profile_memory=True,\n",
    "    record_shapes=True,\n",
    "    # with_stack=True,\n",
    ") as prof:\n",
    "    cube = get_cube(20)\n",
    "    solution = cube.solve(rtol=1e-5)\n",
    "\n",
    "# Show memory allocation over time\n",
    "# prof.export_memory_timeline(\"memory.html\")\n",
    "\n",
    "# Export trace to Chrome Trace format (this can be opened in chrome://tracing or https://ui.perfetto.dev/)\n",
    "prof.export_chrome_trace(\"trace.json\")"
   ]
  },
  {
   "cell_type": "code",
   "execution_count": null,
   "metadata": {},
   "outputs": [],
   "source": [
    "# add @profile decorator to function to be profiled\n",
    "cube = get_cube(20)\n",
    "solution = cube.solve(rtol=1e-5)"
   ]
  },
  {
   "cell_type": "code",
   "execution_count": 2,
   "metadata": {},
   "outputs": [
    {
     "name": "stdout",
     "output_type": "stream",
     "text": [
      "|  N  |     DOFs |  FWD Time |  BWD Time |   Peak RAM |\n",
      "| --- | -------- | --------- | --------- | ---------- |\n",
      "|  10 |     3000 |     0.16s |     0.08s |    571.4MB |\n",
      "|  20 |    24000 |     0.71s |     0.28s |    883.0MB |\n",
      "|  30 |    81000 |     2.71s |     1.17s |   1453.3MB |\n",
      "|  40 |   192000 |     7.57s |     3.73s |   2351.0MB |\n",
      "|  50 |   375000 |    16.20s |     8.94s |   3919.8MB |\n",
      "|  60 |   648000 |    27.59s |    18.82s |   4855.9MB |\n",
      "|  70 |  1029000 |    48.86s |    40.32s |   6761.7MB |\n",
      "|  80 |  1536000 |    85.89s |    68.61s |   7454.9MB |\n",
      "|  90 |  2187000 |   131.45s |   110.14s |   8457.8MB |\n",
      "| 100 |  3000000 |   193.44s |   162.16s |   9898.3MB |\n"
     ]
    }
   ],
   "source": [
    "print(\"|  N  |     DOFs |  FWD Time |  BWD Time |   Peak RAM |\")\n",
    "print(\"| --- | -------- | --------- | --------- | ---------- |\")\n",
    "\n",
    "device = \"cpu\"\n",
    "for N in [10, 20, 30, 40, 50, 60, 70, 80, 90, 100]:\n",
    "    mem_usage, result = memory_usage(\n",
    "        lambda: subprocess.run(\n",
    "            [\"python\", \"cubes.py\", \"-N\", str(N), \"-device\", device],\n",
    "            capture_output=True,\n",
    "            text=True,\n",
    "        ),\n",
    "        retval=True,\n",
    "        include_children=True,\n",
    "        max_usage=True,\n",
    "        interval=0.1,\n",
    "    )\n",
    "\n",
    "    print(result.stdout.strip() + f\" {mem_usage:8.1f}MB |\")"
   ]
  }
 ],
 "metadata": {
  "kernelspec": {
   "display_name": "torchfem",
   "language": "python",
   "name": "python3"
  },
  "language_info": {
   "codemirror_mode": {
    "name": "ipython",
    "version": 3
   },
   "file_extension": ".py",
   "mimetype": "text/x-python",
   "name": "python",
   "nbconvert_exporter": "python",
   "pygments_lexer": "ipython3",
   "version": "3.10.13"
  }
 },
 "nbformat": 4,
 "nbformat_minor": 2
}
